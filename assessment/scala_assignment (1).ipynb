{
 "cells": [
  {
   "cell_type": "code",
   "execution_count": 1,
   "id": "b9cf579d-04bb-4f52-a5b3-ebae29342c4e",
   "metadata": {},
   "outputs": [
    {
     "data": {
      "text/plain": [
       "Intitializing Scala interpreter ..."
      ]
     },
     "metadata": {},
     "output_type": "display_data"
    },
    {
     "data": {
      "text/plain": [
       "Spark Web UI available at http://172.19.47.132:4040\n",
       "SparkContext available as 'sc' (version = 3.5.2, master = local[*], app id = local-1725856433701)\n",
       "SparkSession available as 'spark'\n"
      ]
     },
     "metadata": {},
     "output_type": "display_data"
    },
    {
     "data": {
      "text/plain": [
       "array: Array[Int] = Array(1, 2, 3, 4, 5, 6, 7, 8, 9, 10)\r\n"
      ]
     },
     "execution_count": 1,
     "metadata": {},
     "output_type": "execute_result"
    }
   ],
   "source": [
    "/* 1 */\n",
    "val array = Array(1, 2, 3, 4, 5, 6, 7, 8, 9, 10)\n"
   ]
  },
  {
   "cell_type": "code",
   "execution_count": 21,
   "id": "0c87b4b9-e196-41f7-8af7-aebf8118667c",
   "metadata": {},
   "outputs": [
    {
     "name": "stdout",
     "output_type": "stream",
     "text": [
      "Sum: 55, Average: 5.5\n"
     ]
    },
    {
     "data": {
      "text/plain": [
       "sum: Int = 55\r\n",
       "average: Double = 5.5\r\n"
      ]
     },
     "execution_count": 21,
     "metadata": {},
     "output_type": "execute_result"
    }
   ],
   "source": [
    "val sum = array.sum\n",
    "val average = sum.toDouble / array.length\n",
    "println(f\"Sum: $sum, Average: $average\")\n"
   ]
  },
  {
   "cell_type": "code",
   "execution_count": 3,
   "id": "ec42bde9-8672-4758-a7e7-7c58ef4e80f4",
   "metadata": {},
   "outputs": [
    {
     "name": "stdout",
     "output_type": "stream",
     "text": [
      "Modified Array: 2, 4, 6, 8, 10, 12, 14, 16, 18, 20\n"
     ]
    },
    {
     "data": {
      "text/plain": [
       "modifiedArray: Array[Int] = Array(2, 4, 6, 8, 10, 12, 14, 16, 18, 20)\r\n"
      ]
     },
     "execution_count": 3,
     "metadata": {},
     "output_type": "execute_result"
    }
   ],
   "source": [
    "val modifiedArray = array.map(_ * 2)\n",
    "println(f\"Modified Array: ${modifiedArray.mkString(\", \")}\")\n"
   ]
  },
  {
   "cell_type": "code",
   "execution_count": 16,
   "id": "54ef30c9-bdda-4aff-aecb-842a8172a475",
   "metadata": {},
   "outputs": [
    {
     "name": "stdout",
     "output_type": "stream",
     "text": [
      "10, 9, 8, 7, 6, 5, 4, 3, 2, 1\n",
      "Maximum element: 10\n",
      "Minimum element: 1\n"
     ]
    },
    {
     "data": {
      "text/plain": [
       "reversedArray: Array[Int] = Array(10, 9, 8, 7, 6, 5, 4, 3, 2, 1)\r\n",
       "maxElement: Int = 10\r\n",
       "minElement: Int = 1\r\n"
      ]
     },
     "execution_count": 16,
     "metadata": {},
     "output_type": "execute_result"
    }
   ],
   "source": [
    "/* 2 */\n",
    "\n",
    "val reversedArray = array.reverse\n",
    "println(reversedArray.mkString(\", \"))\n",
    "\n",
    "\n",
    "val maxElement = array.max\n",
    "val minElement = array.min\n",
    "println(f\"Maximum element: $maxElement\")\n",
    "println(f\"Minimum element: $minElement\")\n"
   ]
  },
  {
   "cell_type": "code",
   "execution_count": 33,
   "id": "038e0518-95ee-4c44-be9c-82f5462dac05",
   "metadata": {},
   "outputs": [
    {
     "name": "stdout",
     "output_type": "stream",
     "text": [
      "Original list: List(1, 2, 3, 4, 5, 6, 7, 8, 9, 10)\n",
      "Filtered even numbers: List(2, 4, 6, 8, 10)\n",
      "Sum of even numbers: 30\n"
     ]
    },
    {
     "data": {
      "text/plain": [
       "numbers: List[Int] = List(1, 2, 3, 4, 5, 6, 7, 8, 9, 10)\r\n",
       "evenNumbers: List[Int] = List(2, 4, 6, 8, 10)\r\n",
       "sumOfEvenNumbers: Int = 30\r\n"
      ]
     },
     "execution_count": 33,
     "metadata": {},
     "output_type": "execute_result"
    }
   ],
   "source": [
    "/* Collections */\n",
    "\n",
    "/*LIST */\n",
    "\n",
    "val numbers = List(1, 2, 3, 4, 5, 6, 7, 8, 9, 10)\n",
    "val evenNumbers = numbers.filter(_ % 2 == 0)\n",
    "val sumOfEvenNumbers = evenNumbers.sum\n",
    "\n",
    "println(f\"Original list: $numbers\")\n",
    "println(f\"Filtered even numbers: $evenNumbers\")\n",
    "println(f\"Sum of even numbers: $sumOfEvenNumbers\")\n",
    "\n",
    "\n"
   ]
  },
  {
   "cell_type": "code",
   "execution_count": 37,
   "id": "ba008093-dc7b-4795-a40e-6141c30d9725",
   "metadata": {},
   "outputs": [
    {
     "name": "stdout",
     "output_type": "stream",
     "text": [
      "The capital of India is New Delhi.\n",
      "The capital of Canada is Ottawa.\n"
     ]
    },
    {
     "data": {
      "text/plain": [
       "countryCapitalMap: scala.collection.immutable.Map[String,String] = Map(South Korea -> Seoul, Canada -> Ottawa, India -> New Delhi, South Africa -> Pretoria, Germany -> Berlin)\r\n",
       "checkCountry: (country: String)Unit\r\n"
      ]
     },
     "execution_count": 37,
     "metadata": {},
     "output_type": "execute_result"
    }
   ],
   "source": [
    "/* MAP */\n",
    "\n",
    "// Create Map \n",
    "val countryCapitalMap = Map(\n",
    "  \"Canada\" -> \"Ottawa\",\n",
    "  \"India\" -> \"New Delhi\",\n",
    "  \"Germany\" -> \"Berlin\",\n",
    "  \"South Korea\" -> \"Seoul\",\n",
    "  \"South Africa\" -> \"Pretoria\"\n",
    ")\n",
    "\n",
    "\n",
    "// check function\n",
    "def checkCountry(country: String) {\n",
    "  if (countryCapitalMap.contains(country)) {\n",
    "    println(f\"The capital of $country is ${countryCapitalMap(country)}.\")\n",
    "  } else {\n",
    "    println(f\"$country is not in the map.\")\n",
    "  }\n",
    "}\n",
    "\n",
    "// checking\n",
    "checkCountry(\"India\")\n",
    "checkCountry(\"Canada\")\n",
    "\n",
    "\n"
   ]
  },
  {
   "cell_type": "code",
   "execution_count": 24,
   "id": "17c099e2-8fd7-4e72-a3aa-0312518f9f5a",
   "metadata": {},
   "outputs": [
    {
     "name": "stdout",
     "output_type": "stream",
     "text": [
      "Circle Area: 78.53981633974483\n",
      "Circle Perimeter: 31.41592653589793\n",
      "Rectangle Area: 24.0\n",
      "Rectangle Perimeter: 20.0\n"
     ]
    },
    {
     "data": {
      "text/plain": [
       "defined trait Shape\r\n",
       "defined class Circle\r\n",
       "defined class Rectangle\r\n",
       "circle: Circle = Circle@6dda8112\r\n",
       "rectangle: Rectangle = Rectangle@695cd9ee\r\n"
      ]
     },
     "execution_count": 24,
     "metadata": {},
     "output_type": "execute_result"
    }
   ],
   "source": [
    "/*SCALA TRAITS */\n",
    "\n",
    "// Define the Shape trait\n",
    "trait Shape {\n",
    "  def area(): Double\n",
    "  def perimeter(): Double\n",
    "}\n",
    "\n",
    "//Circle class\n",
    "class Circle(val radius: Double) extends Shape {\n",
    "  override def area(): Double = Math.PI * radius * radius\n",
    "  override def perimeter(): Double = 2 * Math.PI * radius\n",
    "}\n",
    "\n",
    "//Rectangle class\n",
    "class Rectangle(val length: Double, val width: Double) extends Shape {\n",
    "  override def area(): Double = length * width\n",
    "  override def perimeter(): Double = 2 * (length + width)\n",
    "}\n",
    "\n",
    "// Main object to test the classes\n",
    "\n",
    "  val circle = new Circle(5)\n",
    "  val rectangle = new Rectangle(4, 6)\n",
    "\n",
    "  println(f\"Circle Area: ${circle.area()}\")\n",
    "  println(f\"Circle Perimeter: ${circle.perimeter()}\")\n",
    "  println(f\"Rectangle Area: ${rectangle.area()}\")\n",
    "  println(f\"Rectangle Perimeter: ${rectangle.perimeter()}\")\n",
    "\n"
   ]
  },
  {
   "cell_type": "code",
   "execution_count": 36,
   "id": "7a51718d-e459-4da6-afd2-fe4591e2bc1e",
   "metadata": {},
   "outputs": [
    {
     "name": "stdout",
     "output_type": "stream",
     "text": [
      "Woof!\n",
      "The dog runs.\n",
      "Chirp!\n",
      "The bird flies.\n"
     ]
    },
    {
     "data": {
      "text/plain": [
       "defined class Animal\r\n",
       "defined class Dog\r\n",
       "defined class Bird\r\n",
       "dog: Dog = Dog@776f3956\r\n",
       "bird: Bird = Bird@a6aae73\r\n"
      ]
     },
     "execution_count": 36,
     "metadata": {},
     "output_type": "execute_result"
    }
   ],
   "source": [
    "/* OOP SCALA */\n",
    "\n",
    "/* CLASSES  AND INHERITANCE */\n",
    "abstract class Animal {\n",
    "  def speak()\n",
    "  def move()\n",
    "}\n",
    "\n",
    "class Dog extends Animal {\n",
    "  override def speak(){\n",
    "    println(\"Woof!\")\n",
    "  }\n",
    "\n",
    "  override def move()= {\n",
    "    println(\"The dog runs.\")\n",
    "  }\n",
    "}\n",
    "\n",
    "class Bird extends Animal {\n",
    "  override def speak() {\n",
    "    println(\"Chirp!\")\n",
    "  }\n",
    "\n",
    "  override def move() {\n",
    "    println(\"The bird flies.\")\n",
    "  }\n",
    "}\n",
    "\n",
    "\n",
    "val dog = new Dog\n",
    "val bird = new Bird\n",
    "\n",
    "dog.speak()\n",
    "dog.move()\n",
    "\n",
    "bird.speak()\n",
    "bird.move()\n",
    "\n"
   ]
  },
  {
   "cell_type": "code",
   "execution_count": 29,
   "id": "16ac78b9-2220-4c6e-9ba9-6c932310964e",
   "metadata": {},
   "outputs": [
    {
     "name": "stdout",
     "output_type": "stream",
     "text": [
      "Deposited 500.0. New balance: 1500.0\n",
      "Withdrew 200.0. New balance: 1300.0\n",
      "Current balance: 1300.0\n"
     ]
    },
    {
     "data": {
      "text/plain": [
       "defined class BankAccount\r\n",
       "account: BankAccount = BankAccount@454a2b91\r\n"
      ]
     },
     "execution_count": 29,
     "metadata": {},
     "output_type": "execute_result"
    }
   ],
   "source": [
    "/* ENCAPSULATION */\n",
    "\n",
    "class BankAccount(private var accountNumber: String, private var balance: Double) {\n",
    " \n",
    "  def deposit(amount: Double){\n",
    "    if (amount > 0) {\n",
    "      balance += amount\n",
    "      println(f\"Deposited $amount. New balance: $balance\")\n",
    "    } else {\n",
    "      println(\"Deposit amount must be positive.\")\n",
    "    }\n",
    "  }\n",
    "\n",
    "  \n",
    "  def withdraw(amount: Double){\n",
    "    if (amount > 0 && amount <= balance) {\n",
    "      balance -= amount\n",
    "      println(f\"Withdrew $amount. New balance: $balance\")\n",
    "    } else if (amount > balance) {\n",
    "      println(\"Insufficient balance.\")\n",
    "    } else {\n",
    "      println(\"Withdrawal amount must be positive.\")\n",
    "    }\n",
    "  }\n",
    "\n",
    " \n",
    "  def displayBalance(): Unit = {\n",
    "    println(f\"Current balance: $balance\")\n",
    "  }\n",
    "}\n",
    "\n",
    "\n",
    "val account = new BankAccount(\"346789876543\", 2000.0)\n",
    "account.deposit(1000.0)\n",
    "account.withdraw(300.0)\n",
    "account.displayBalance()\n"
   ]
  },
  {
   "cell_type": "code",
   "execution_count": null,
   "id": "4d9518f0-010b-4ea5-bda2-c090b6b974fc",
   "metadata": {},
   "outputs": [],
   "source": []
  }
 ],
 "metadata": {
  "kernelspec": {
   "display_name": "spylon-kernel",
   "language": "scala",
   "name": "spylon-kernel"
  },
  "language_info": {
   "codemirror_mode": "text/x-scala",
   "file_extension": ".scala",
   "help_links": [
    {
     "text": "MetaKernel Magics",
     "url": "https://metakernel.readthedocs.io/en/latest/source/README.html"
    }
   ],
   "mimetype": "text/x-scala",
   "name": "scala",
   "pygments_lexer": "scala",
   "version": "0.4.1"
  }
 },
 "nbformat": 4,
 "nbformat_minor": 5
}
