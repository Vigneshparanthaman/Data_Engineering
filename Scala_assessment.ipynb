{
 "cells": [
  {
   "cell_type": "code",
   "execution_count": 2,
   "id": "71f6d289-041d-4095-b44b-285c6e893506",
   "metadata": {},
   "outputs": [
    {
     "data": {
      "text/plain": [
       "array: Array[Int] = Array(1, 2, 3, 4, 5, 6, 7, 8, 9, 10)\r\n"
      ]
     },
     "execution_count": 2,
     "metadata": {},
     "output_type": "execute_result"
    }
   ],
   "source": [
    "  val array = Array(1, 2, 3, 4, 5, 6, 7, 8, 9, 10)"
   ]
  },
  {
   "cell_type": "code",
   "execution_count": 10,
   "id": "bc017db8-5e8e-416b-8dec-33b4469556db",
   "metadata": {},
   "outputs": [
    {
     "name": "stdout",
     "output_type": "stream",
     "text": [
      "Sum of all elements: 55\n",
      "Average of all elements: 5.5\n",
      "Modified array: 2, 4, 6, 8, 10, 12, 14, 16, 18, 20\n"
     ]
    },
    {
     "data": {
      "text/plain": [
       "sum: Int = 55\r\n",
       "average: Double = 5.5\r\n",
       "modifiedArray: Array[Int] = Array(2, 4, 6, 8, 10, 12, 14, 16, 18, 20)\r\n"
      ]
     },
     "execution_count": 10,
     "metadata": {},
     "output_type": "execute_result"
    }
   ],
   "source": [
    "\n",
    "// Calculate the sum of all elements in the array\n",
    "val sum = array.sum\n",
    "println(s\"Sum of all elements: $sum\")\n",
    "\n",
    "// Calculate the average of all elements in the array\n",
    "val average = array.sum.toDouble / array.length\n",
    "println(s\"Average of all elements: $average\")\n",
    "\n",
    "// Modify the array by multiplying each element by 2\n",
    "val modifiedArray = array.map(_ * 2)\n",
    "println(s\"Modified array: ${modifiedArray.mkString(\", \")}\")\n",
    "  \n",
    "\n",
    "\n",
    "\n"
   ]
  },
  {
   "cell_type": "code",
   "execution_count": 4,
   "id": "3fd1d853-65f0-47b7-9d7d-1502b6f6c7cc",
   "metadata": {},
   "outputs": [
    {
     "name": "stdout",
     "output_type": "stream",
     "text": [
      "Reversed array: 10, 9, 8, 7, 6, 5, 4, 3, 2, 1\n",
      "Maximum element: 10\n",
      "Minimum element: 1\n"
     ]
    },
    {
     "data": {
      "text/plain": [
       "array: Array[Int] = Array(1, 2, 3, 4, 5, 6, 7, 8, 9, 10)\r\n",
       "reversedArray: Array[Int] = Array(10, 9, 8, 7, 6, 5, 4, 3, 2, 1)\r\n",
       "maxElement: Int = 10\r\n",
       "minElement: Int = 1\r\n"
      ]
     },
     "execution_count": 4,
     "metadata": {},
     "output_type": "execute_result"
    }
   ],
   "source": [
    "\n",
    "\n",
    "// Reverse the array\n",
    "val reversedArray = array.reverse\n",
    "println(s\"Reversed array: ${reversedArray.mkString(\", \")}\")\n",
    "\n",
    "// Find the maximum element in the array\n",
    "val maxElement = array.max\n",
    "println(s\"Maximum element: $maxElement\")\n",
    "\n",
    "// Find the minimum element in the array\n",
    "val minElement = array.min\n",
    "println(s\"Minimum element: $minElement\")\n"
   ]
  },
  {
   "cell_type": "code",
   "execution_count": 5,
   "id": "0cfccb58-1310-4ca5-bead-d045374dcf4c",
   "metadata": {},
   "outputs": [
    {
     "name": "stdout",
     "output_type": "stream",
     "text": [
      "List of even numbers: List(2, 4, 6, 8, 10)\n",
      "Sum of even numbers: 30\n"
     ]
    },
    {
     "data": {
      "text/plain": [
       "numbers: List[Int] = List(1, 2, 3, 4, 5, 6, 7, 8, 9, 10)\r\n",
       "evenNumbers: List[Int] = List(2, 4, 6, 8, 10)\r\n",
       "sumOfEvenNumbers: Int = 30\r\n"
      ]
     },
     "execution_count": 5,
     "metadata": {},
     "output_type": "execute_result"
    }
   ],
   "source": [
    "\n",
    "val numbers = List(1, 2, 3, 4, 5, 6, 7, 8, 9, 10)\n",
    "\n",
    "// Filter the list to keep only even numbers\n",
    "val evenNumbers = numbers.filter(_ % 2 == 0)\n",
    "\n",
    "// Find the sum of all elements in the filtered list\n",
    "val sumOfEvenNumbers = evenNumbers.sum\n",
    "    \n",
    "// Print the result\n",
    "println(s\"List of even numbers: $evenNumbers\")\n",
    "println(s\"Sum of even numbers: $sumOfEvenNumbers\")\n",
    "\n"
   ]
  },
  {
   "cell_type": "code",
   "execution_count": 6,
   "id": "29c6d19c-dda9-4566-9985-45b2bfe976b7",
   "metadata": {},
   "outputs": [
    {
     "name": "stdout",
     "output_type": "stream",
     "text": [
      "Circle Area: 78.53981633974483\n",
      "Circle Perimeter: 31.41592653589793\n",
      "Rectangle Area: 24.0\n",
      "Rectangle Perimeter: 20.0\n"
     ]
    },
    {
     "data": {
      "text/plain": [
       "defined trait Shape\r\n",
       "defined class Circle\r\n",
       "defined class Rectangle\r\n",
       "circle: Circle = Circle@67ca7429\r\n",
       "rectangle: Rectangle = Rectangle@6b113fb9\r\n"
      ]
     },
     "execution_count": 6,
     "metadata": {},
     "output_type": "execute_result"
    }
   ],
   "source": [
    "\n",
    "trait Shape {\n",
    "  def area(): Double\n",
    "  def perimeter(): Double\n",
    "}\n",
    "\n",
    "//Circle class\n",
    "class Circle(val radius: Double) extends Shape {\n",
    "  override def area(): Double = Math.PI * radius * radius\n",
    "  override def perimeter(): Double = 2 * Math.PI * radius\n",
    "}\n",
    "\n",
    "//Rectangle class\n",
    "class Rectangle(val length: Double, val width: Double) extends Shape {\n",
    "  override def area(): Double = length * width\n",
    "  override def perimeter(): Double = 2 * (length + width)\n",
    "}\n",
    "\n",
    "\n",
    "\n",
    "val circle = new Circle(5)\n",
    "val rectangle = new Rectangle(4, 6)\n",
    "\n",
    "println(f\"Circle Area: ${circle.area()}\")\n",
    "println(f\"Circle Perimeter: ${circle.perimeter()}\")\n",
    "println(f\"Rectangle Area: ${rectangle.area()}\")\n",
    "println(f\"Rectangle Perimeter: ${rectangle.perimeter()}\")"
   ]
  },
  {
   "cell_type": "code",
   "execution_count": 7,
   "id": "915c5064-fe3c-4df5-9720-4514e3023447",
   "metadata": {},
   "outputs": [
    {
     "name": "stdout",
     "output_type": "stream",
     "text": [
      "Barking\n",
      "The dog runs.\n",
      "Chirp!\n",
      "The bird flies.\n"
     ]
    },
    {
     "data": {
      "text/plain": [
       "defined class Animal\r\n",
       "defined class Dog\r\n",
       "defined class Bird\r\n",
       "dog: Dog = Dog@6ccd815c\r\n",
       "bird: Bird = Bird@4bc2c09a\r\n"
      ]
     },
     "execution_count": 7,
     "metadata": {},
     "output_type": "execute_result"
    }
   ],
   "source": [
    "/* OOP SCALA */\n",
    "\n",
    "/* CLASSES  AND INHERITANCE */\n",
    "abstract class Animal {\n",
    "  def speak()\n",
    "  def move()\n",
    "}\n",
    "\n",
    "class Dog extends Animal {\n",
    "  override def speak(){\n",
    "    println(\"Barking\")\n",
    "  }\n",
    "\n",
    "  override def move()= {\n",
    "    println(\"The dog runs.\")\n",
    "  }\n",
    "}\n",
    "\n",
    "class Bird extends Animal {\n",
    "  override def speak() {\n",
    "    println(\"Chirp!\")\n",
    "  }\n",
    "\n",
    "  override def move() {\n",
    "    println(\"The bird flies.\")\n",
    "  }\n",
    "}\n",
    "\n",
    "\n",
    "val dog = new Dog\n",
    "val bird = new Bird\n",
    "\n",
    "dog.speak()\n",
    "dog.move()\n",
    "\n",
    "bird.speak()\n",
    "bird.move()"
   ]
  },
  {
   "cell_type": "code",
   "execution_count": 8,
   "id": "b1931bd1-dd3a-4ca9-b0f5-e529f9a46384",
   "metadata": {},
   "outputs": [
    {
     "name": "stdout",
     "output_type": "stream",
     "text": [
      "Deposited 1700.0. New balance: 10700.0\n",
      "Withdrew 700.0. New balance: 10000.0\n",
      "Current balance: 10000.0\n"
     ]
    },
    {
     "data": {
      "text/plain": [
       "defined class BankAccount\r\n",
       "account: BankAccount = BankAccount@372d4573\r\n"
      ]
     },
     "execution_count": 8,
     "metadata": {},
     "output_type": "execute_result"
    }
   ],
   "source": [
    "\n",
    "\n",
    "class BankAccount(private var accountNumber: String, private var balance: Double) {\n",
    " \n",
    "  def deposit(amount: Double){\n",
    "    if (amount > 0) {\n",
    "      balance += amount\n",
    "      println(f\"Deposited $amount. New balance: $balance\")\n",
    "    } else {\n",
    "      println(\"Deposit amount must be positive.\")\n",
    "    }\n",
    "  }\n",
    "\n",
    "  \n",
    "  def withdraw(amount: Double){\n",
    "    if (amount > 0 && amount <= balance) {\n",
    "      balance -= amount\n",
    "      println(f\"Withdrew $amount. New balance: $balance\")\n",
    "    } else if (amount > balance) {\n",
    "      println(\"Insufficient balance.\")\n",
    "    } else {\n",
    "      println(\"Withdrawal amount must be positive.\")\n",
    "    }\n",
    "  }\n",
    "\n",
    " \n",
    "  def displayBalance(): Unit = {\n",
    "    println(f\"Current balance: $balance\")\n",
    "  }\n",
    "}\n",
    "\n",
    "\n",
    "val account = new BankAccount(\"346789876543\", 9000.0)\n",
    "account.deposit(1700.0)\n",
    "account.withdraw(700.0)\n",
    "account.displayBalance()"
   ]
  },
  {
   "cell_type": "code",
   "execution_count": null,
   "id": "de213614-729c-4d31-93f8-6da38a50c739",
   "metadata": {},
   "outputs": [],
   "source": []
  }
 ],
 "metadata": {
  "kernelspec": {
   "display_name": "spylon-kernel",
   "language": "scala",
   "name": "spylon-kernel"
  },
  "language_info": {
   "codemirror_mode": "text/x-scala",
   "file_extension": ".scala",
   "help_links": [
    {
     "text": "MetaKernel Magics",
     "url": "https://metakernel.readthedocs.io/en/latest/source/README.html"
    }
   ],
   "mimetype": "text/x-scala",
   "name": "scala",
   "pygments_lexer": "scala",
   "version": "0.4.1"
  }
 },
 "nbformat": 4,
 "nbformat_minor": 5
}
